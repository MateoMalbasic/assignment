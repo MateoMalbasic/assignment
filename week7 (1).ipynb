{
 "cells": [
  {
   "cell_type": "markdown",
   "metadata": {},
   "source": [
    "# Graded Assignment 2\n",
    "Mateo Malbasic, 2009362\n",
    "\n",
    "# Packages\n",
    "\n",
    "# Assignment 1\n",
    "\n",
    "First load the `tidyverse` package:"
   ]
  },
  {
   "cell_type": "code",
   "execution_count": 1,
   "metadata": {
    "scrolled": true
   },
   "outputs": [
    {
     "name": "stderr",
     "output_type": "stream",
     "text": [
      "-- Attaching packages --------------------------------------- tidyverse 1.2.1 --\n",
      "<U+221A> ggplot2 2.2.1     <U+221A> purrr   0.2.4\n",
      "<U+221A> tibble  1.4.2     <U+221A> dplyr   0.7.4\n",
      "<U+221A> tidyr   0.8.0     <U+221A> stringr 1.3.0\n",
      "<U+221A> readr   1.1.1     <U+221A> forcats 0.3.0\n",
      "-- Conflicts ------------------------------------------ tidyverse_conflicts() --\n",
      "x dplyr::filter() masks stats::filter()\n",
      "x dplyr::lag()    masks stats::lag()\n"
     ]
    }
   ],
   "source": [
    "library(tidyverse) "
   ]
  },
  {
   "cell_type": "markdown",
   "metadata": {},
   "source": [
    "##  Assignment 1a\n",
    "\n",
    "Read the data file _graded_assignment_2.csv_ from disk:"
   ]
  },
  {
   "cell_type": "code",
   "execution_count": 2,
   "metadata": {},
   "outputs": [
    {
     "name": "stderr",
     "output_type": "stream",
     "text": [
      "Warning message in file(file, \"rt\"):\n",
      "\"cannot open file 'graded_assignment_2.csv': No such file or directory\""
     ]
    },
    {
     "ename": "ERROR",
     "evalue": "Error in file(file, \"rt\"): cannot open the connection\n",
     "output_type": "error",
     "traceback": [
      "Error in file(file, \"rt\"): cannot open the connection\nTraceback:\n",
      "1. read.csv(file = \"graded_assignment_2.csv\", sep = \";\")",
      "2. read.table(file = file, header = header, sep = sep, quote = quote, \n .     dec = dec, fill = fill, comment.char = comment.char, ...)",
      "3. file(file, \"rt\")"
     ]
    }
   ],
   "source": [
    "data1 <- read.csv(file = 'graded_assignment_2.csv', sep= ';') \n",
    "head(data1)"
   ]
  },
  {
   "cell_type": "markdown",
   "metadata": {},
   "source": [
    "## Assignment 1b\n",
    "\n",
    "Add column \"Health_status\" with containing values _1_ (Healthy) and _0_ (Unhealthy).\n",
    "A person is Healthy, when `FKG` equals 0 and `DKG` equals 0.\n",
    "\n",
    "So\n",
    "\n",
    "| FKG | DKG | Health_status   |\n",
    "|-----|-----|--------------   |\n",
    "| 0   | 0   | 1               |\n",
    "| 1   | 0   | 0               |\n",
    "| 0   | 1   | 0               |\n",
    "| 1   | 1   | 0               |\n",
    "\n",
    "Hint: you can use `ifelse()`:"
   ]
  },
  {
   "cell_type": "code",
   "execution_count": null,
   "metadata": {},
   "outputs": [],
   "source": [
    "data2 <- data1 %>% mutate(Health_status = ifelse((FKG == 1 & DKG == 1)|(FKG == 1 & DKG == 0)|(FKG == 0 & DKG ==1), '0', '1'))\n",
    "data2 <- data2[,c('ID', 'Group', 'FKG', 'DKG', 'Health_status', 'Gender', 'Elderly', 'Age')]\n",
    "head(data2)"
   ]
  },
  {
   "cell_type": "markdown",
   "metadata": {},
   "source": [
    "In the next datacamp course you will learn more about the package `dplyr`. For now we just give you some code. You can run the following script.\n",
    "\n",
    "First, we want to make \"Health_status\" a factor instead of a character"
   ]
  },
  {
   "cell_type": "code",
   "execution_count": null,
   "metadata": {},
   "outputs": [],
   "source": [
    "data2 <- data2 %>%\n",
    "  mutate(Health_status = as.numeric(Health_status))\n",
    "str(data2)"
   ]
  },
  {
   "cell_type": "markdown",
   "metadata": {},
   "source": [
    "Then, we want to count the number of healthy and unhealthy males and females"
   ]
  },
  {
   "cell_type": "code",
   "execution_count": null,
   "metadata": {},
   "outputs": [],
   "source": [
    "data3 <- data2 %>%\n",
    "  group_by(Gender, Health_status) %>%\n",
    " summarise(Count_observations = n()) %>%\n",
    "  mutate(Health_status=as.factor(Health_status))\n",
    "\n",
    "data3"
   ]
  },
  {
   "cell_type": "markdown",
   "metadata": {},
   "source": [
    "## Assignment 2\n",
    "\n",
    "Recreate with the dataframe \"data3\" the following barchart ![](../Sourcedata/barchart.png)\n",
    "\n",
    "* Hint: see for changing the [legends and colors](http://www.cookbook-r.com/Graphs/Legends_(ggplot2)/)\n",
    "* Hint: the \"green\" color is in fact the color \"greenyellow\"\n",
    "* Hint: see for the [themes](http://ggplot2.tidyverse.org/reference/ggtheme.html): \n",
    "\n"
   ]
  },
  {
   "cell_type": "code",
   "execution_count": null,
   "metadata": {},
   "outputs": [],
   "source": [
    "ggplot(data=data3, aes(x=Gender, y=Count_observations, fill=Health_status)) + geom_col(position = 'dodge') + scale_fill_manual(values = c(\"red\", \"greenyellow\"), name = 'Health Status', labels = c('Unhealthy (0) ', 'Healthy (1)')) + theme_classic(base_size =13)"
   ]
  },
  {
   "cell_type": "markdown",
   "metadata": {},
   "source": [
    "End notebook"
   ]
  }
 ],
 "metadata": {
  "anaconda-cloud": {},
  "kernelspec": {
   "display_name": "Python 3",
   "language": "python",
   "name": "python3"
  },
  "language_info": {
   "codemirror_mode": {
    "name": "ipython",
    "version": 3
   },
   "file_extension": ".py",
   "mimetype": "text/x-python",
   "name": "python",
   "nbconvert_exporter": "python",
   "pygments_lexer": "ipython3",
   "version": "3.5.3"
  }
 },
 "nbformat": 4,
 "nbformat_minor": 1
}
