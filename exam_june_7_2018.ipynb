{
 "cells": [
  {
   "cell_type": "markdown",
   "metadata": {},
   "source": [
    "Before you turn this problem in, make sure everything runs as expected. First, **restart the kernel** (in the menubar, select Kernel$\\rightarrow$Restart) and then **run all cells** (in the menubar, select Cell$\\rightarrow$Run All).\n",
    "\n",
    "Make sure you fill in any place that says `YOUR CODE HERE` or \"YOUR ANSWER HERE\", as well as your name and collaborators below:"
   ]
  },
  {
   "cell_type": "code",
   "execution_count": 1,
   "metadata": {},
   "outputs": [],
   "source": [
    "NAME = \"Mateo Malbasic, 2009362\"\n",
    "COLLABORATORS = \"Sjoerd Geraads, 2008618\""
   ]
  },
  {
   "cell_type": "markdown",
   "metadata": {},
   "source": [
    "---"
   ]
  },
  {
   "cell_type": "markdown",
   "metadata": {},
   "source": [
    "Fill in the cell above to provide us with your name and student number, like\n",
    "\n",
    "NAME = \"Adam Smith, #student number#\"\n",
    "\n",
    "where you replace \"#student number#\" with your ... (very good!)\n",
    "\n",
    "and if you are doing this with someone else (not more than one other person):\n",
    "\n",
    "COLLABORATORS = \"Karl Marx, #student number#\""
   ]
  },
  {
   "cell_type": "markdown",
   "metadata": {
    "deletable": false,
    "editable": false,
    "nbgrader": {
     "checksum": "a7ae5c69becf064d614c6c38935eca51",
     "grade": false,
     "grade_id": "cell-895e9a7b94992ec9",
     "locked": true,
     "schema_version": 1,
     "solution": false
    }
   },
   "source": [
    "# exam June 7th, 2018\n"
   ]
  },
  {
   "cell_type": "markdown",
   "metadata": {
    "deletable": false,
    "editable": false,
    "nbgrader": {
     "checksum": "bc48d165f54aa364aa34509649fcdef5",
     "grade": false,
     "grade_id": "cell-540987818af25557",
     "locked": true,
     "schema_version": 1,
     "solution": false
    }
   },
   "source": [
    "\n",
    "In the first cell of the notebook, give us your name and student number in the way indicated above. If you do this notebook with --at max.-- one other student, give her/his name and student number as well under \"COLLABORATORS\".\n",
    "\n",
    "Fill in the notebook (see below for code cells and text cells that you need to fill in).\n",
    "\n",
    "If you look at the menus above (File, Edit, View etc.), there is one called \"Cell\". If you click on this, you can change the \"Cell Type\". Choose \"Code\" when you are typing python or R code. Choose \"Markdown\" when you are typing, well, markdown.\n",
    "\n",
    "When you finish the notebook, make sure that you **save it with the output of your code included**. \n",
    "\n",
    "Then put it on github, e.g. by dragging it onto github (see instructions below). \n",
    "\n",
    "Finally, add a link to your README file with the name of this exam: \"Exam June 7, 2018\".\n",
    "\n"
   ]
  },
  {
   "cell_type": "markdown",
   "metadata": {
    "deletable": false,
    "editable": false,
    "nbgrader": {
     "checksum": "6fad9bed312da1b0097e9c520b18e3fb",
     "grade": false,
     "grade_id": "cell-e1cf88cb799f1f43",
     "locked": true,
     "schema_version": 1,
     "solution": false
    }
   },
   "source": [
    "## price effects of mergers\n",
    "\n",
    "We consider a merger in this notebook. \n",
    "\n",
    "First we calculate the equilibrium with three firms, denoted by 1, 2 and 3. Then firms 2 and 3 merge so that we are left with 2 firms; denoted by 1 and 2.\n",
    "\n",
    "We calculate the effects of the merger on the equilibrium price.\n",
    "\n",
    "We start by importing the usual libraries."
   ]
  },
  {
   "cell_type": "code",
   "execution_count": 2,
   "metadata": {
    "deletable": false,
    "editable": false,
    "nbgrader": {
     "checksum": "7bd770ef54db47c3b6c8d0e31f6baef6",
     "grade": false,
     "grade_id": "cell-b895769bf40e183a",
     "locked": true,
     "schema_version": 1,
     "solution": false
    }
   },
   "outputs": [],
   "source": [
    "import matplotlib.pyplot as plt\n",
    "import pandas as pd\n",
    "import numpy as np\n",
    "from scipy import optimize\n",
    "%matplotlib inline"
   ]
  },
  {
   "cell_type": "markdown",
   "metadata": {},
   "source": [
    "The following code helps to calculate the equilibrium for the case with 3 firms. Note that you have seen similar code during the tutorials to calculate the equilibrium with 2 firms.\n",
    "\n",
    "We assume that before the merger each firm has constant marginal costs equal to 0.3. We assume a simple linear (inverse) demand curve of the form $p=1-Q$ where $p$ denotes price and $Q$ total output on the market. Total output equals the sum of each firm's output: $Q= q_1 + q_2+q_3$."
   ]
  },
  {
   "cell_type": "code",
   "execution_count": 25,
   "metadata": {
    "deletable": false,
    "editable": false,
    "nbgrader": {
     "checksum": "3e30f7ac9d9155ef089b8ca56a0c0436",
     "grade": false,
     "grade_id": "cell-f97a25efed556fd2",
     "locked": true,
     "schema_version": 1,
     "solution": false
    }
   },
   "outputs": [],
   "source": [
    "c0 = 0.3\n",
    "vector_c = [c0]*3\n",
    "\n",
    "def p(Q):\n",
    "    return 1 - Q\n",
    "\n",
    "def costs(q,c):\n",
    "    return c*q\n",
    "\n",
    "def profits(q,Q_other,c):\n",
    "    return p(q+Q_other)*q-costs(q,c)\n",
    "\n",
    "def reaction(Q_other,c):\n",
    "    q1 =  optimize.fminbound(lambda x: -profits(x,Q_other,c),0,1,full_output=1)\n",
    "    return q1[0]\n",
    "\n",
    "def fixed_point_three_firms(vector_q,vector_c):\n",
    "    return [vector_q[0]-reaction(vector_q[1]+vector_q[2],vector_c[0]),\n",
    "            vector_q[1]-reaction(vector_q[0]+vector_q[2],vector_c[1]),\n",
    "            vector_q[2]-reaction(vector_q[0]+vector_q[1],vector_c[2])]\n",
    "\n"
   ]
  },
  {
   "cell_type": "markdown",
   "metadata": {
    "deletable": false,
    "editable": false,
    "nbgrader": {
     "checksum": "f6ea3b2416aca7293a5450c45865f242",
     "grade": false,
     "grade_id": "cell-83284c4090d6de8c",
     "locked": true,
     "schema_version": 1,
     "solution": false
    }
   },
   "source": [
    "#### a) [0.5 points] Show that total equilibrium output equals  0.525. Derive the equilibrium price and Herfindahl index; denote these by `P0` and `H0` resp."
   ]
  },
  {
   "cell_type": "code",
   "execution_count": 26,
   "metadata": {
    "deletable": false,
    "nbgrader": {
     "checksum": "a06d73c35395adb00480733b458cb4a5",
     "grade": true,
     "grade_id": "cell-3b8ee172d9950128",
     "locked": false,
     "points": 0.5,
     "schema_version": 1,
     "solution": true
    }
   },
   "outputs": [
    {
     "name": "stdout",
     "output_type": "stream",
     "text": [
      "Q:0.5249999999999999\n",
      "p:0.4750000000000001\n",
      "Herfindal index:0.3333333333333333\n"
     ]
    }
   ],
   "source": [
    "#First we calculate the total equilibrium output\n",
    "print('Q:' + str((1-0.3)/4*3))\n",
    "\n",
    "#Next we derive the equilibrium price denoted as P0 by using p= 1-Q\n",
    "P0= 1-((1-0.3)/4*3)\n",
    "print('p:' + str(P0))\n",
    "\n",
    "#Lastly, we derive the Herfindal index denoted as H0, we use the sum of: number of firms*((qi/Q)**2)\n",
    "H0= 3*((1/3)**2)\n",
    "print('Herfindal index:' + str(H0))\n"
   ]
  },
  {
   "cell_type": "markdown",
   "metadata": {
    "deletable": false,
    "editable": false,
    "nbgrader": {
     "checksum": "87b3b3e0e2d645c280e279312e489dc4",
     "grade": false,
     "grade_id": "cell-4b33762aa4a601fe",
     "locked": true,
     "schema_version": 1,
     "solution": false
    }
   },
   "source": [
    "#### b) [0.5 point] Define a function `fixed_point_two_firms` with the same structure as the function `fixed_point_three_firms` above, except that it derives the equilibrium output levels for a duopoly (two firms). Test this function by showing that each of the two firms produces 0.3333 in case both firms have zero costs."
   ]
  },
  {
   "cell_type": "code",
   "execution_count": 75,
   "metadata": {
    "deletable": false,
    "nbgrader": {
     "checksum": "024a1519155d681b57c85292df535a65",
     "grade": true,
     "grade_id": "cell-5ee215676b91f504",
     "locked": false,
     "points": 0.5,
     "schema_version": 1,
     "solution": true
    }
   },
   "outputs": [
    {
     "name": "stdout",
     "output_type": "stream",
     "text": [
      "[0.33333333 0.33333333]\n"
     ]
    }
   ],
   "source": [
    "#We copied the code in a), bt changed the costs to 0 and firms to 2\n",
    "\n",
    "c0 = 0\n",
    "vector_c = [c0]*2\n",
    "\n",
    "def p(Q):\n",
    "    return 1 - Q\n",
    "\n",
    "def costs(q,c):\n",
    "    return c*q\n",
    "\n",
    "def profits(q,Q_other,c):\n",
    "    return p(q+Q_other)*q-costs(q,c)\n",
    "\n",
    "def reaction(Q_other,c):\n",
    "    q1 =  optimize.fminbound(lambda x: -profits(x,Q_other,c),0,1,full_output=1)\n",
    "    return q1[0]\n",
    "\n",
    "\n",
    "def fixed_point_two_firms(vector_q,vector_c):\n",
    "    return [vector_q[0]-reaction(vector_q[1],vector_c[0]),\n",
    "            vector_q[1]-reaction(vector_q[0],vector_c[1])]\n",
    "\n",
    "\n",
    "\n",
    "initial_guess= [0,0]\n",
    "\n",
    "\n",
    "Q = optimize.fsolve(lambda q: fixed_point_two_firms(q,[0,0]), initial_guess)\n",
    "\n",
    "print(Q)"
   ]
  },
  {
   "cell_type": "markdown",
   "metadata": {
    "deletable": false,
    "editable": false,
    "nbgrader": {
     "checksum": "5291fc8716e367572fde17ebe5844d2f",
     "grade": false,
     "grade_id": "cell-c2fada02efd7b197",
     "locked": true,
     "schema_version": 1,
     "solution": false
    }
   },
   "source": [
    "The Dutch competition authority, ACM, is asked to evaluate the effects of a merger between firms 2 and 3. Firms 2 and 3 claim that by merging they can reduce their constant marginal costs. But it is not clear by how much they will reduce their costs.\n",
    "\n",
    "The ACM assumes that the marginal cost level of the merged firm is uniformly distributed between 0 and the current marginal cost level `c0`. The merger will not affect the marginal cost level of firm 1 who does not merge. Firm 1's cost level remains `c0`.\n",
    "\n",
    "The next cell generates a vector of cost levels for the merged firm, denoted `c_after_merger`. Evaluate \"c_after_merger\" in a separate cell if you do not understand the command that defines it.\n",
    "\n",
    "Then it calculates the equilibrium output levels for (the non-merging) firm 1 and (the merged) firm 2.\n",
    "\n",
    "Note that you need to specify `initial_guess`.\n"
   ]
  },
  {
   "cell_type": "code",
   "execution_count": 76,
   "metadata": {
    "deletable": false,
    "editable": false,
    "nbgrader": {
     "checksum": "11299317cd53e31de9900700999b0324",
     "grade": false,
     "grade_id": "cell-ce91ab3e3225c57d",
     "locked": true,
     "schema_version": 1,
     "solution": false
    }
   },
   "outputs": [],
   "source": [
    "c_after_merger = np.random.uniform(0,c0,size = 100)\n",
    "\n",
    "q1_after_merger = [optimize.fsolve(lambda q: fixed_point_two_firms(q,[c0,c]), initial_guess)[0] for c in c_after_merger]\n",
    "q2_after_merger = [optimize.fsolve(lambda q: fixed_point_two_firms(q,[c0,c]), initial_guess)[1] for c in c_after_merger]\n",
    "\n",
    "\n"
   ]
  },
  {
   "cell_type": "markdown",
   "metadata": {
    "deletable": false,
    "editable": false,
    "nbgrader": {
     "checksum": "2b518306d6ff20ee42d0bc3085333095",
     "grade": false,
     "grade_id": "cell-0acc18b4f07a09f4",
     "locked": true,
     "schema_version": 1,
     "solution": false
    }
   },
   "source": [
    "#### c) [0.5 points] Create a dataframe called `df_after_merger` with three columns: `c_merged_firm`, `output_non_merging_firm`, `output_merged_firm` containing resp. the cost level of the merged firm, the output level of firm 1 and the output level of firm 2."
   ]
  },
  {
   "cell_type": "code",
   "execution_count": 92,
   "metadata": {
    "deletable": false,
    "nbgrader": {
     "checksum": "f4fc6a3bdef91fa3f656ccd3290c9f54",
     "grade": true,
     "grade_id": "cell-f3eacda828774f2d",
     "locked": false,
     "points": 0.5,
     "schema_version": 1,
     "solution": true
    }
   },
   "outputs": [
    {
     "name": "stdout",
     "output_type": "stream",
     "text": [
      "    c_merged_firm  output_merged_firm  output_non_merging_firm\n",
      "0        0.047332            0.401779                 0.149111\n",
      "1        0.077561            0.381626                 0.159187\n",
      "2        0.063822            0.390786                 0.154607\n",
      "3        0.262560            0.258293                 0.220853\n",
      "4        0.065799            0.389467                 0.155266\n",
      "5        0.016357            0.422428                 0.138786\n",
      "6        0.256656            0.262229                 0.218885\n",
      "7        0.248695            0.267537                 0.216232\n",
      "8        0.105570            0.362954                 0.168523\n",
      "9        0.178540            0.314306                 0.192847\n",
      "10       0.042243            0.405171                 0.147414\n",
      "11       0.097031            0.368646                 0.165677\n",
      "12       0.037934            0.408044                 0.145978\n",
      "13       0.037175            0.408550                 0.145725\n",
      "14       0.225419            0.283054                 0.208473\n",
      "15       0.012532            0.424979                 0.137511\n",
      "16       0.152189            0.331874                 0.184063\n",
      "17       0.293810            0.237460                 0.231270\n",
      "18       0.031463            0.412358                 0.143821\n",
      "19       0.162900            0.324733                 0.187633\n",
      "20       0.299179            0.233881                 0.233060\n",
      "21       0.046464            0.402358                 0.148821\n",
      "22       0.162409            0.325061                 0.187470\n",
      "23       0.094089            0.370607                 0.164696\n",
      "24       0.010295            0.426470                 0.136765\n",
      "25       0.299351            0.233766                 0.233117\n",
      "26       0.194240            0.303840                 0.198080\n",
      "27       0.204857            0.296762                 0.201619\n",
      "28       0.028657            0.414229                 0.142886\n",
      "29       0.090943            0.372705                 0.163648\n",
      "..            ...                 ...                      ...\n",
      "70       0.183439            0.311041                 0.194480\n",
      "71       0.140595            0.339603                 0.180198\n",
      "72       0.028322            0.414452                 0.142774\n",
      "73       0.241403            0.272398                 0.213801\n",
      "74       0.025093            0.416605                 0.141698\n",
      "75       0.088558            0.374294                 0.162853\n",
      "76       0.255671            0.262886                 0.218557\n",
      "77       0.200492            0.299672                 0.200164\n",
      "78       0.269031            0.253979                 0.223010\n",
      "79       0.020938            0.419375                 0.140313\n",
      "80       0.232328            0.278448                 0.210776\n",
      "81       0.022282            0.418478                 0.140761\n",
      "82       0.035305            0.409797                 0.145102\n",
      "83       0.124719            0.350188                 0.174906\n",
      "84       0.174664            0.316890                 0.191555\n",
      "85       0.198823            0.300784                 0.199608\n",
      "86       0.083766            0.377490                 0.161255\n",
      "87       0.253574            0.264284                 0.217858\n",
      "88       0.075897            0.382735                 0.158632\n",
      "89       0.274490            0.250340                 0.224830\n",
      "90       0.018128            0.421248                 0.139376\n",
      "91       0.134426            0.343716                 0.178142\n",
      "92       0.226721            0.282186                 0.208907\n",
      "93       0.167557            0.321629                 0.189186\n",
      "94       0.155100            0.329933                 0.185033\n",
      "95       0.114464            0.357024                 0.171488\n",
      "96       0.236688            0.275541                 0.212229\n",
      "97       0.160210            0.326527                 0.186737\n",
      "98       0.039567            0.406956                 0.146522\n",
      "99       0.165007            0.323329                 0.188336\n",
      "\n",
      "[100 rows x 3 columns]\n"
     ]
    }
   ],
   "source": [
    "#We copied the code above and assigned the code to the proper column\n",
    "c0=0.3\n",
    "\n",
    "c_after_merger = np.random.uniform(0,c0,size = 100)\n",
    "\n",
    "q1_after_merger = [optimize.fsolve(lambda q: fixed_point_two_firms(q,[c0,c]), initial_guess)[0] for c in c_after_merger]\n",
    "q2_after_merger = [optimize.fsolve(lambda q: fixed_point_two_firms(q,[c0,c]), initial_guess)[1] for c in c_after_merger]\n",
    "\n",
    "\n",
    "A = {'c_merged_firm' : c_after_merger, 'output_non_merging_firm' : q1_after_merger, 'output_merged_firm' : q2_after_merger}\n",
    "df_after_merger= pd.DataFrame(data=A)\n",
    "print(df_after_merger)"
   ]
  },
  {
   "cell_type": "markdown",
   "metadata": {
    "deletable": false,
    "editable": false,
    "nbgrader": {
     "checksum": "a5bf4171960844da9c57375d83b6eedf",
     "grade": false,
     "grade_id": "cell-7ad058be42e19df8",
     "locked": true,
     "schema_version": 1,
     "solution": false
    }
   },
   "source": [
    "#### d) [0.5 points] Add three columns to the dataframe with resp. total equilibrium output on the market, `Q`, equilibrium price, `P` and the Herfindahl index, `H`."
   ]
  },
  {
   "cell_type": "code",
   "execution_count": 96,
   "metadata": {
    "deletable": false,
    "nbgrader": {
     "checksum": "ab6179623b39a6ae634abea45326e4ab",
     "grade": true,
     "grade_id": "cell-9c39b11747803ca1",
     "locked": false,
     "points": 0.5,
     "schema_version": 1,
     "solution": true
    }
   },
   "outputs": [
    {
     "name": "stdout",
     "output_type": "stream",
     "text": [
      "           H         P         Q  c_merged_firm  output_merged_firm  \\\n",
      "0   0.605182  0.449111  0.550889       0.047332            0.401779   \n",
      "1   0.584586  0.459187  0.540813       0.077561            0.381626   \n",
      "2   0.593763  0.454607  0.545393       0.063822            0.390786   \n",
      "3   0.503053  0.520853  0.479147       0.262560            0.258293   \n",
      "4   0.592423  0.455266  0.544734       0.065799            0.389467   \n",
      "5   0.627719  0.438786  0.561214       0.016357            0.422428   \n",
      "6   0.504058  0.518885  0.481115       0.256656            0.262229   \n",
      "7   0.505624  0.516232  0.483768       0.248695            0.267537   \n",
      "8   0.566916  0.468523  0.531477       0.105570            0.362954   \n",
      "9   0.528678  0.492847  0.507153       0.178540            0.314306   \n",
      "10  0.608791  0.447414  0.552586       0.042243            0.405171   \n",
      "11  0.572148  0.465677  0.534323       0.097031            0.368646   \n",
      "12  0.611876  0.445978  0.554022       0.037934            0.408044   \n",
      "13  0.612422  0.445725  0.554275       0.037175            0.408550   \n",
      "14  0.511511  0.508473  0.491527       0.225419            0.283054   \n",
      "15  0.630593  0.437511  0.562489       0.012532            0.424979   \n",
      "16  0.541038  0.484063  0.515937       0.152189            0.331874   \n",
      "17  0.500087  0.531270  0.468730       0.293810            0.237460   \n",
      "18  0.616560  0.443821  0.556179       0.031463            0.412358   \n",
      "19  0.535800  0.487633  0.512367       0.162900            0.324733   \n",
      "20  0.500002  0.533060  0.466940       0.299179            0.233881   \n",
      "21  0.605795  0.448821  0.551179       0.046464            0.402358   \n",
      "22  0.536034  0.487470  0.512530       0.162409            0.325061   \n",
      "23  0.573982  0.464696  0.535304       0.094089            0.370607   \n",
      "24  0.632283  0.436765  0.563235       0.010295            0.426470   \n",
      "25  0.500001  0.533117  0.466883       0.299351            0.233766   \n",
      "26  0.522200  0.498080  0.501920       0.194240            0.303840   \n",
      "27  0.518222  0.501619  0.498381       0.204857            0.296762   \n",
      "28  0.618609  0.442886  0.557114       0.028657            0.414229   \n",
      "29  0.575963  0.463648  0.536352       0.090943            0.372705   \n",
      "..       ...       ...       ...            ...                 ...   \n",
      "70  0.526583  0.494480  0.505520       0.183439            0.311041   \n",
      "71  0.547022  0.480198  0.519802       0.140595            0.339603   \n",
      "72  0.618855  0.442774  0.557226       0.028322            0.414452   \n",
      "73  0.507263  0.513801  0.486199       0.241403            0.272398   \n",
      "74  0.621228  0.441698  0.558302       0.025093            0.416605   \n",
      "75  0.577476  0.462853  0.537147       0.088558            0.374294   \n",
      "76  0.504239  0.518557  0.481443       0.255671            0.262886   \n",
      "77  0.519817  0.500164  0.499836       0.200492            0.299672   \n",
      "78  0.502108  0.523010  0.476990       0.269031            0.253979   \n",
      "79  0.624303  0.440313  0.559687       0.020938            0.419375   \n",
      "80  0.509567  0.510776  0.489224       0.232328            0.278448   \n",
      "81  0.623305  0.440761  0.559239       0.022282            0.418478   \n",
      "82  0.613772  0.445102  0.554898       0.035305            0.409797   \n",
      "83  0.555714  0.474906  0.525094       0.124719            0.350188   \n",
      "84  0.530383  0.491555  0.508445       0.174664            0.316890   \n",
      "85  0.520441  0.499608  0.500392       0.198823            0.300784   \n",
      "86  0.580548  0.461255  0.538745       0.083766            0.377490   \n",
      "87  0.504636  0.517858  0.482142       0.253574            0.264284   \n",
      "88  0.585680  0.458632  0.541368       0.075897            0.382735   \n",
      "89  0.501441  0.524830  0.475170       0.274490            0.250340   \n",
      "90  0.626395  0.439376  0.560624       0.018128            0.421248   \n",
      "91  0.550333  0.478142  0.521858       0.134426            0.343716   \n",
      "92  0.511133  0.508907  0.491093       0.226721            0.282186   \n",
      "93  0.533613  0.489186  0.510814       0.167557            0.321629   \n",
      "94  0.539587  0.485033  0.514967       0.155100            0.329933   \n",
      "95  0.561619  0.471488  0.528512       0.114464            0.357024   \n",
      "96  0.508424  0.512229  0.487771       0.236688            0.275541   \n",
      "97  0.537089  0.486737  0.513263       0.160210            0.326527   \n",
      "98  0.610704  0.446522  0.553478       0.039567            0.406956   \n",
      "99  0.534804  0.488336  0.511664       0.165007            0.323329   \n",
      "\n",
      "    output_non_merging_firm  \n",
      "0                  0.149111  \n",
      "1                  0.159187  \n",
      "2                  0.154607  \n",
      "3                  0.220853  \n",
      "4                  0.155266  \n",
      "5                  0.138786  \n",
      "6                  0.218885  \n",
      "7                  0.216232  \n",
      "8                  0.168523  \n",
      "9                  0.192847  \n",
      "10                 0.147414  \n",
      "11                 0.165677  \n",
      "12                 0.145978  \n",
      "13                 0.145725  \n",
      "14                 0.208473  \n",
      "15                 0.137511  \n",
      "16                 0.184063  \n",
      "17                 0.231270  \n",
      "18                 0.143821  \n",
      "19                 0.187633  \n",
      "20                 0.233060  \n",
      "21                 0.148821  \n",
      "22                 0.187470  \n",
      "23                 0.164696  \n",
      "24                 0.136765  \n",
      "25                 0.233117  \n",
      "26                 0.198080  \n",
      "27                 0.201619  \n",
      "28                 0.142886  \n",
      "29                 0.163648  \n",
      "..                      ...  \n",
      "70                 0.194480  \n",
      "71                 0.180198  \n",
      "72                 0.142774  \n",
      "73                 0.213801  \n",
      "74                 0.141698  \n",
      "75                 0.162853  \n",
      "76                 0.218557  \n",
      "77                 0.200164  \n",
      "78                 0.223010  \n",
      "79                 0.140313  \n",
      "80                 0.210776  \n",
      "81                 0.140761  \n",
      "82                 0.145102  \n",
      "83                 0.174906  \n",
      "84                 0.191555  \n",
      "85                 0.199608  \n",
      "86                 0.161255  \n",
      "87                 0.217858  \n",
      "88                 0.158632  \n",
      "89                 0.224830  \n",
      "90                 0.139376  \n",
      "91                 0.178142  \n",
      "92                 0.208907  \n",
      "93                 0.189186  \n",
      "94                 0.185033  \n",
      "95                 0.171488  \n",
      "96                 0.212229  \n",
      "97                 0.186737  \n",
      "98                 0.146522  \n",
      "99                 0.188336  \n",
      "\n",
      "[100 rows x 6 columns]\n"
     ]
    }
   ],
   "source": [
    "#We changed the lists to arrays because then we could derive the functions of Q, P and H which we inserted in a dataframe\n",
    "\n",
    "production_merged_firm = np.array(q2_after_merger)\n",
    "production_non_merged_firm = np.array(q1_after_merger)\n",
    "Q = np.array(production_merged_firm + production_non_merged_firm)\n",
    "P = (100*[1]) - Q \n",
    "H = ((production_merged_firm/Q)**2) + ((production_non_merged_firm/Q)**2)\n",
    "\n",
    "A = {'c_merged_firm' : c_after_merger, 'output_non_merging_firm' : q1_after_merger, 'output_merged_firm' : q2_after_merger, 'Q' : Q, 'P': P, 'H' : H }\n",
    "df_after_merger = pd.DataFrame(data=A)\n",
    "print(df_after_merger)"
   ]
  },
  {
   "cell_type": "markdown",
   "metadata": {},
   "source": [
    "#### e) [0.5 points] Make a histogram of the equilibrium price `P` after the merger. Also indicate in the histogram the equilibrium price before the merger `P0`. Label the horizontal axis with $P$.\n",
    "\n",
    "[hint: you may want to use matplotlib's `hist`, `vlines` and `legend` to make this graph (e.g use google to find these functions); but feel free to use something else]"
   ]
  },
  {
   "cell_type": "code",
   "execution_count": 143,
   "metadata": {
    "deletable": false,
    "nbgrader": {
     "checksum": "b103cd98545261b20f937f4b9db67f68",
     "grade": true,
     "grade_id": "cell-f9193bf8e71f1a9a",
     "locked": false,
     "points": 0.5,
     "schema_version": 1,
     "solution": true
    }
   },
   "outputs": [
    {
     "data": {
      "text/plain": [
       "<matplotlib.collections.LineCollection at 0x1cb55c51a20>"
      ]
     },
     "execution_count": 143,
     "metadata": {},
     "output_type": "execute_result"
    },
    {
     "data": {
      "image/png": "[encoded data removed]",
      "text/plain": [
       "<matplotlib.figure.Figure at 0x1cb55bcf6d8>"
      ]
     },
     "metadata": {},
     "output_type": "display_data"
    }
   ],
   "source": [
    "#We made a histogram of the equilibrium price after the merger. The thin vertical line presents the equilibrium price before the merger.\n",
    "plt.hist(P)\n",
    "plt.xlabel('P')\n",
    "plt.ylabel('Frequency')\n",
    "P0= 1-((1-0.3)/4*3)\n",
    "plt.vlines(x=P0, ymin=0, ymax=17)"
   ]
  },
  {
   "cell_type": "markdown",
   "metadata": {},
   "source": [
    "#### f) [0.5 points] Explain why sometimes the equilibrium price after the merger exceeds the equilibrium price before the merger and sometimes it is lower than the pre-merger price. [hint: there is a trade off between two effects, depending on which effect dominates, equilibrium price increases or decreases after the merger]"
   ]
  },
  {
   "cell_type": "markdown",
   "metadata": {
    "deletable": false,
    "nbgrader": {
     "checksum": "dd9fc721b7cf7f66587e93cbfb758034",
     "grade": true,
     "grade_id": "cell-7a1f367cd2854156",
     "locked": false,
     "points": 0.5,
     "schema_version": 1,
     "solution": true
    }
   },
   "source": [
    "A merger can reduce competition, which increases the equilibrium price or it can make a firm more efficient thus decreasing the equilibrium price. So a merger could have two different effects."
   ]
  },
  {
   "cell_type": "markdown",
   "metadata": {
    "deletable": false,
    "editable": false,
    "nbgrader": {
     "checksum": "e1e41dbf14c605bf91cdc78f70eada99",
     "grade": false,
     "grade_id": "cell-06ed6044f8938a45",
     "locked": true,
     "schema_version": 1,
     "solution": false
    }
   },
   "source": [
    "#### g) [0.5 points] Make a graph with the Herfindahl index on the horizontal axis and the equilibrium price on the vertical axis. This is straightforward for $(H,P)$ after the merger as both values are in the dataframe. Add in another color, the pre-merger combination `(H0,P0)` that we calculated above."
   ]
  },
  {
   "cell_type": "code",
   "execution_count": 145,
   "metadata": {
    "deletable": false,
    "nbgrader": {
     "checksum": "51cfaacbaf533e85d9794bc74712afd5",
     "grade": true,
     "grade_id": "cell-d647464d04870b73",
     "locked": false,
     "points": 0.5,
     "schema_version": 1,
     "solution": true
    }
   },
   "outputs": [
    {
     "data": {
      "text/plain": [
       "<matplotlib.collections.PathCollection at 0x1cb55d25b38>"
      ]
     },
     "execution_count": 145,
     "metadata": {},
     "output_type": "execute_result"
    },
    {
     "data": {
      "image/png": "[encoded data removed]",
      "text/plain": [
       "<matplotlib.figure.Figure at 0x1cb55c99c88>"
      ]
     },
     "metadata": {},
     "output_type": "display_data"
    }
   ],
   "source": [
    "#We made a graph of al the possible outcomes of H and P after the merger. The orange dot is the pre-merger combination of H0 and P0.\n",
    "plt.xlabel(\"H\")\n",
    "plt.ylabel(\"P\")\n",
    "plt.plot(H,P)\n",
    "plt.scatter(H0, P0, color='Orange')"
   ]
  },
  {
   "cell_type": "markdown",
   "metadata": {
    "deletable": false,
    "editable": false,
    "nbgrader": {
     "checksum": "11b6609131b1c25886f2c6cafe0f7a59",
     "grade": false,
     "grade_id": "cell-5c5e5776a7c135a2",
     "locked": true,
     "schema_version": 1,
     "solution": false
    }
   },
   "source": [
    "#### h) [0.5 points] Use the graph under g) to discuss the relation between the Herfindahl index and the equilibrium price. To illustrate, some people think that lower values of the Herfindahl index are associated with more competitive outcome. Would you agree with this?"
   ]
  },
  {
   "cell_type": "markdown",
   "metadata": {
    "collapsed": true,
    "deletable": false,
    "nbgrader": {
     "checksum": "3d396887dde3b00420c623b9f4ea8ed2",
     "grade": true,
     "grade_id": "cell-cbd89d483b23a953",
     "locked": false,
     "points": 0.5,
     "schema_version": 1,
     "solution": true
    }
   },
   "source": [
    "We have a downward sloping line so this implifies that when the Herfindahl index increases, the equilibrium price goes down. We do not agree, because more competitiveness would suggest a lower price, but a lower H gives a higher price."
   ]
  },
  {
   "cell_type": "markdown",
   "metadata": {},
   "source": [
    "## Github\n",
    "\n",
    "After you have finished, we need to upload this notebook on github. Make sure that you upload the file on the github page of each collaborator."
   ]
  },
  {
   "cell_type": "markdown",
   "metadata": {},
   "source": [
    "Instructions on how to upload this on github can be found [on this page](http://janboone.github.io/programming-for-economists/github.html). This page has two screencasts: one shows how to drag the notebook onto your github page, the other shows how you can use the command line to upload your notebook.\n"
   ]
  },
  {
   "cell_type": "markdown",
   "metadata": {},
   "source": [
    "Remember to update the README file in your repository to include a link to this notebook on github.\n",
    "\n",
    "\n",
    "The links that you should post start with “github.com/” and are NOT of the form “http://localhost”. Make sure you test your links after uploading."
   ]
  },
  {
   "cell_type": "code",
   "execution_count": null,
   "metadata": {
    "collapsed": true
   },
   "outputs": [],
   "source": []
  }
 ],
 "metadata": {
  "anaconda-cloud": {},
  "kernelspec": {
   "display_name": "Python 3",
   "language": "python",
   "name": "python3"
  },
  "language_info": {
   "codemirror_mode": {
    "name": "ipython",
    "version": 3
   },
   "file_extension": ".py",
   "mimetype": "text/x-python",
   "name": "python",
   "nbconvert_exporter": "python",
   "pygments_lexer": "ipython3",
   "version": "3.6.4"
  }
 },
 "nbformat": 4,
 "nbformat_minor": 1
}
